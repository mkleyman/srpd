{
 "cells": [
  {
   "cell_type": "code",
   "execution_count": 1,
   "metadata": {
    "collapsed": true
   },
   "outputs": [],
   "source": [
    "import sys\n",
    "sys.path.insert(0, '../src')\n",
    "import timeit"
   ]
  },
  {
   "cell_type": "code",
   "execution_count": 33,
   "metadata": {
    "collapsed": false
   },
   "outputs": [],
   "source": [
    "import SimulatedData"
   ]
  },
  {
   "cell_type": "code",
   "execution_count": 3,
   "metadata": {
    "collapsed": true
   },
   "outputs": [],
   "source": [
    "import bicluster_em"
   ]
  },
  {
   "cell_type": "code",
   "execution_count": 4,
   "metadata": {
    "collapsed": true
   },
   "outputs": [],
   "source": [
    "import numpy as np"
   ]
  },
  {
   "cell_type": "code",
   "execution_count": 34,
   "metadata": {
    "collapsed": true
   },
   "outputs": [],
   "source": [
    "cluster_list,sample_data,epi_data = SimulatedData.create_data(1000,1000,5,100,.1,\"mode\")\n"
   ]
  },
  {
   "cell_type": "code",
   "execution_count": 6,
   "metadata": {
    "collapsed": true
   },
   "outputs": [],
   "source": []
  },
  {
   "cell_type": "code",
   "execution_count": 36,
   "metadata": {
    "collapsed": false
   },
   "outputs": [
    {
     "name": "stdout",
     "output_type": "stream",
     "text": [
      "initial e-step\n",
      "initial clustering\n",
      "0\n",
      "optmizing j\n"
     ]
    },
    {
     "name": "stderr",
     "output_type": "stream",
     "text": [
      "/home/mkleyman/anaconda3/lib/python3.6/site-packages/sklearn/cluster/spectral.py:462: UserWarning: The spectral clustering API has changed. ``fit``now constructs an affinity matrix from data. To use a custom affinity matrix, set ``affinity=precomputed``.\n",
      "  warnings.warn(\"The spectral clustering API has changed. ``fit``\"\n"
     ]
    },
    {
     "name": "stdout",
     "output_type": "stream",
     "text": [
      "optimizing i\n",
      "-13899685.910601253\n",
      "1\n",
      "optmizing j\n",
      "optimizing i\n",
      "-10261404.099627744\n",
      "2\n",
      "optmizing j\n",
      "optimizing i\n",
      "-10473176.172745118\n",
      "3\n",
      "optmizing j\n",
      "optimizing i\n",
      "-10116341.363194512\n",
      "4\n",
      "optmizing j\n",
      "optimizing i\n",
      "-10334337.788818408\n",
      "5\n",
      "optmizing j\n",
      "optimizing i\n",
      "-10146775.016155614\n",
      "6\n",
      "optmizing j\n",
      "optimizing i\n",
      "-10117279.69200164\n",
      "7\n",
      "optmizing j\n",
      "optimizing i\n",
      "-9734131.167873047\n",
      "8\n",
      "optmizing j\n",
      "optimizing i\n",
      "-8846463.685988344\n",
      "9\n",
      "optmizing j\n",
      "optimizing i\n",
      "-8919431.783139635\n",
      "10\n",
      "optmizing j\n",
      "optimizing i\n",
      "-8596035.293703627\n",
      "11\n",
      "optmizing j\n",
      "optimizing i\n",
      "-8781185.575584127\n",
      "12\n",
      "optmizing j\n",
      "optimizing i\n",
      "-8584431.927327355\n",
      "13\n",
      "optmizing j\n",
      "optimizing i\n",
      "-8598717.549484476\n",
      "14\n",
      "optmizing j\n",
      "optimizing i\n",
      "-8514263.56745813\n",
      "15\n",
      "optmizing j\n",
      "optimizing i\n",
      "-8608152.051063748\n",
      "16\n",
      "optmizing j\n",
      "optimizing i\n",
      "-8488069.111551967\n",
      "17\n",
      "optmizing j\n",
      "optimizing i\n",
      "-8525815.361611824\n",
      "18\n",
      "optmizing j\n",
      "optimizing i\n",
      "-8459472.521058047\n",
      "19\n",
      "optmizing j\n",
      "optimizing i\n",
      "-8508745.825148415\n",
      "20\n",
      "optmizing j\n",
      "optimizing i\n",
      "-8433984.198932128\n",
      "21\n",
      "optmizing j\n",
      "optimizing i\n",
      "-8513308.768969271\n",
      "22\n",
      "optmizing j\n",
      "optimizing i\n",
      "-8376401.813641401\n",
      "23\n",
      "optmizing j\n",
      "optimizing i\n",
      "-8492010.949845923\n",
      "24\n",
      "optmizing j\n",
      "optimizing i\n",
      "-8375293.608687446\n",
      "25\n",
      "optmizing j\n",
      "optimizing i\n",
      "-8479318.015449744\n",
      "26\n",
      "optmizing j\n",
      "optimizing i\n",
      "-8356900.2267303495\n",
      "27\n",
      "optmizing j\n",
      "optimizing i\n",
      "-8460640.81780769\n",
      "28\n",
      "optmizing j\n",
      "optimizing i\n",
      "-8384860.470771132\n",
      "29\n",
      "optmizing j\n",
      "optimizing i\n",
      "-8422653.34119339\n",
      "30\n",
      "optmizing j\n",
      "optimizing i\n",
      "-8380616.415718669\n",
      "31\n",
      "optmizing j\n",
      "optimizing i\n",
      "-8441189.690406378\n",
      "32\n",
      "optmizing j\n",
      "optimizing i\n",
      "-8350962.040138254\n",
      "33\n",
      "optmizing j\n",
      "optimizing i\n",
      "-8440619.736626377\n",
      "34\n",
      "optmizing j\n",
      "optimizing i\n",
      "-8382462.9168831725\n",
      "35\n",
      "optmizing j\n",
      "optimizing i\n",
      "-8400542.944668679\n",
      "36\n",
      "optmizing j\n",
      "optimizing i\n",
      "-8323559.011886539\n",
      "37\n",
      "optmizing j\n",
      "optimizing i\n",
      "-8430814.12741138\n",
      "38\n",
      "optmizing j\n",
      "optimizing i\n",
      "-8304177.788412614\n",
      "39\n",
      "optmizing j\n",
      "optimizing i\n",
      "-8422224.2210463\n",
      "40\n",
      "optmizing j\n",
      "optimizing i\n",
      "-8373102.011174181\n",
      "41\n",
      "optmizing j\n",
      "optimizing i\n",
      "-8384855.030069417\n",
      "42\n",
      "optmizing j\n",
      "optimizing i\n",
      "-8341192.233944264\n",
      "43\n",
      "optmizing j\n",
      "optimizing i\n",
      "-8407243.537272755\n",
      "44\n",
      "optmizing j\n",
      "optimizing i\n",
      "-8309742.5878491625\n",
      "45\n",
      "optmizing j\n",
      "optimizing i\n",
      "-8422485.950411031\n",
      "46\n",
      "optmizing j\n",
      "optimizing i\n",
      "-8279835.296751816\n",
      "47\n",
      "optmizing j\n",
      "optimizing i\n",
      "-8405896.894923616\n",
      "48\n",
      "optmizing j\n",
      "optimizing i\n",
      "-8269641.890458055\n",
      "49\n",
      "optmizing j\n",
      "optimizing i\n",
      "-8385754.338868475\n",
      "50\n",
      "optmizing j\n",
      "optimizing i\n",
      "-8323903.9619952515\n",
      "51\n",
      "optmizing j\n",
      "optimizing i\n",
      "-8381188.41160354\n",
      "52\n",
      "optmizing j\n",
      "optimizing i\n",
      "-8330641.9804818835\n",
      "53\n",
      "optmizing j\n",
      "optimizing i\n",
      "-8386194.844221819\n",
      "54\n",
      "optmizing j\n",
      "optimizing i\n",
      "-8324524.813281678\n",
      "55\n",
      "optmizing j\n",
      "optimizing i\n",
      "-8347178.786989277\n",
      "56\n",
      "optmizing j\n",
      "optimizing i\n",
      "-8335998.025174588\n",
      "57\n",
      "optmizing j\n",
      "optimizing i\n",
      "-8365880.39664771\n",
      "58\n",
      "optmizing j\n",
      "optimizing i\n",
      "-8302499.824630633\n",
      "59\n",
      "optmizing j\n",
      "optimizing i\n",
      "-8372230.269733697\n",
      "60\n",
      "optmizing j\n",
      "optimizing i\n",
      "-8306460.364100732\n",
      "61\n",
      "optmizing j\n",
      "optimizing i\n",
      "-8348835.18719475\n",
      "62\n",
      "optmizing j\n",
      "optimizing i\n"
     ]
    },
    {
     "ename": "KeyboardInterrupt",
     "evalue": "",
     "output_type": "error",
     "traceback": [
      "\u001b[0;31m---------------------------------------------------------------------------\u001b[0m",
      "\u001b[0;31mKeyboardInterrupt\u001b[0m                         Traceback (most recent call last)",
      "\u001b[0;32m<ipython-input-36-6e0bc048f437>\u001b[0m in \u001b[0;36m<module>\u001b[0;34m()\u001b[0m\n\u001b[0;32m----> 1\u001b[0;31m \u001b[0mbest_cell_assignments\u001b[0m\u001b[0;34m,\u001b[0m \u001b[0mbest_gene_assignments\u001b[0m\u001b[0;34m,\u001b[0m \u001b[0mbest_aic\u001b[0m\u001b[0;34m,\u001b[0m \u001b[0mbest_k\u001b[0m \u001b[0;34m=\u001b[0m \u001b[0mbicluster_em\u001b[0m\u001b[0;34m.\u001b[0m\u001b[0mmulti_k_em\u001b[0m\u001b[0;34m(\u001b[0m\u001b[0msample_data\u001b[0m\u001b[0;34m,\u001b[0m\u001b[0mepi_data\u001b[0m\u001b[0;34m,\u001b[0m\u001b[0mrange\u001b[0m\u001b[0;34m(\u001b[0m\u001b[0;36m5\u001b[0m\u001b[0;34m,\u001b[0m\u001b[0;36m8\u001b[0m\u001b[0;34m)\u001b[0m\u001b[0;34m,\u001b[0m\u001b[0;36m.2\u001b[0m\u001b[0;34m,\u001b[0m\u001b[0;36m1000\u001b[0m\u001b[0;34m,\u001b[0m\u001b[0;34m\"AIC\"\u001b[0m\u001b[0;34m)\u001b[0m\u001b[0;34m\u001b[0m\u001b[0m\n\u001b[0m",
      "\u001b[0;32m/home/mkleyman/scrpd/src/bicluster_em.py\u001b[0m in \u001b[0;36mmulti_k_em\u001b[0;34m(exp_data, epi_data, cluster_range, sigma_y, y_scale, ic)\u001b[0m\n\u001b[1;32m    181\u001b[0m     \u001b[0mlog_prob_a\u001b[0m\u001b[0;34m,\u001b[0m \u001b[0mlog_prob_b\u001b[0m\u001b[0;34m,\u001b[0m \u001b[0mbimod_params\u001b[0m \u001b[0;34m=\u001b[0m \u001b[0me_step\u001b[0m\u001b[0;34m(\u001b[0m\u001b[0mexp_data\u001b[0m\u001b[0;34m,\u001b[0m \u001b[0mepi_data\u001b[0m\u001b[0;34m)\u001b[0m\u001b[0;34m\u001b[0m\u001b[0m\n\u001b[1;32m    182\u001b[0m     \u001b[0;32mfor\u001b[0m \u001b[0mcluster_num\u001b[0m \u001b[0;32min\u001b[0m \u001b[0mcluster_range\u001b[0m\u001b[0;34m:\u001b[0m\u001b[0;34m\u001b[0m\u001b[0m\n\u001b[0;32m--> 183\u001b[0;31m         \u001b[0mcell_assignments\u001b[0m\u001b[0;34m,\u001b[0m \u001b[0mgene_assignments\u001b[0m\u001b[0;34m,\u001b[0m \u001b[0mepi_estimate\u001b[0m\u001b[0;34m,\u001b[0m\u001b[0mlikelihood\u001b[0m \u001b[0;34m=\u001b[0m \u001b[0mbicluster_preprocessed\u001b[0m\u001b[0;34m(\u001b[0m\u001b[0mexp_data\u001b[0m\u001b[0;34m,\u001b[0m\u001b[0mepi_data\u001b[0m\u001b[0;34m,\u001b[0m\u001b[0mcluster_num\u001b[0m\u001b[0;34m,\u001b[0m\u001b[0msigma_y\u001b[0m\u001b[0;34m,\u001b[0m\u001b[0my_scale\u001b[0m\u001b[0;34m,\u001b[0m\u001b[0mlog_prob_a\u001b[0m\u001b[0;34m,\u001b[0m\u001b[0mlog_prob_b\u001b[0m\u001b[0;34m,\u001b[0m\u001b[0mbimod_params\u001b[0m\u001b[0;34m)\u001b[0m\u001b[0;34m\u001b[0m\u001b[0m\n\u001b[0m\u001b[1;32m    184\u001b[0m         \u001b[0;32mif\u001b[0m \u001b[0mic\u001b[0m\u001b[0;34m==\u001b[0m\u001b[0;34m\"BIC\"\u001b[0m\u001b[0;34m:\u001b[0m\u001b[0;34m\u001b[0m\u001b[0m\n\u001b[1;32m    185\u001b[0m             \u001b[0mbic\u001b[0m \u001b[0;34m=\u001b[0m \u001b[0mBIC\u001b[0m\u001b[0;34m(\u001b[0m\u001b[0mlikelihood\u001b[0m\u001b[0;34m,\u001b[0m\u001b[0mexp_data\u001b[0m\u001b[0;34m.\u001b[0m\u001b[0mshape\u001b[0m\u001b[0;34m[\u001b[0m\u001b[0;36m0\u001b[0m\u001b[0;34m]\u001b[0m\u001b[0;34m,\u001b[0m\u001b[0mexp_data\u001b[0m\u001b[0;34m.\u001b[0m\u001b[0mshape\u001b[0m\u001b[0;34m[\u001b[0m\u001b[0;36m1\u001b[0m\u001b[0;34m]\u001b[0m\u001b[0;34m,\u001b[0m\u001b[0mepi_data\u001b[0m\u001b[0;34m.\u001b[0m\u001b[0msize\u001b[0m\u001b[0;34m,\u001b[0m\u001b[0mcluster_num\u001b[0m\u001b[0;34m)\u001b[0m\u001b[0;34m\u001b[0m\u001b[0m\n",
      "\u001b[0;32m/home/mkleyman/scrpd/src/bicluster_em.py\u001b[0m in \u001b[0;36mbicluster_preprocessed\u001b[0;34m(exp_data, epi_data, num_clusters, sigma_y, y_scale, log_prob_a, log_prob_b, bimod_params)\u001b[0m\n\u001b[1;32m    146\u001b[0m     \u001b[0mcell_assignments\u001b[0m \u001b[0;34m=\u001b[0m \u001b[0massign_cells_init\u001b[0m\u001b[0;34m(\u001b[0m\u001b[0mgene_assignments\u001b[0m\u001b[0;34m,\u001b[0m\u001b[0mlog_prob_a\u001b[0m\u001b[0;34m,\u001b[0m\u001b[0mlog_prob_b\u001b[0m\u001b[0;34m)\u001b[0m\u001b[0;34m\u001b[0m\u001b[0m\n\u001b[1;32m    147\u001b[0m     \u001b[0mlikelihood\u001b[0m\u001b[0;34m=\u001b[0m \u001b[0;36m0.0\u001b[0m\u001b[0;34m\u001b[0m\u001b[0m\n\u001b[0;32m--> 148\u001b[0;31m     \u001b[0mcell_assignments\u001b[0m\u001b[0;34m,\u001b[0m\u001b[0mgene_assignments\u001b[0m\u001b[0;34m,\u001b[0m\u001b[0mlikelihood\u001b[0m \u001b[0;34m=\u001b[0m \u001b[0mm_step\u001b[0m\u001b[0;34m(\u001b[0m\u001b[0mcell_assignments\u001b[0m\u001b[0;34m,\u001b[0m\u001b[0mgene_assignments\u001b[0m\u001b[0;34m,\u001b[0m\u001b[0mlog_prob_a\u001b[0m\u001b[0;34m,\u001b[0m\u001b[0mlog_prob_b\u001b[0m\u001b[0;34m,\u001b[0m\u001b[0mepi_data\u001b[0m\u001b[0;34m,\u001b[0m\u001b[0msigma_y\u001b[0m\u001b[0;34m,\u001b[0m\u001b[0my_scale\u001b[0m\u001b[0;34m)\u001b[0m\u001b[0;34m\u001b[0m\u001b[0m\n\u001b[0m\u001b[1;32m    149\u001b[0m     \u001b[0mcell_assignments_next\u001b[0m \u001b[0;34m=\u001b[0m \u001b[0mnp\u001b[0m\u001b[0;34m.\u001b[0m\u001b[0mzeros\u001b[0m\u001b[0;34m(\u001b[0m\u001b[0mcell_assignments\u001b[0m\u001b[0;34m.\u001b[0m\u001b[0mshape\u001b[0m\u001b[0;34m)\u001b[0m\u001b[0;34m\u001b[0m\u001b[0m\n\u001b[1;32m    150\u001b[0m     \u001b[0mgene_assignments_next\u001b[0m \u001b[0;34m=\u001b[0m \u001b[0mnp\u001b[0m\u001b[0;34m.\u001b[0m\u001b[0mzeros\u001b[0m\u001b[0;34m(\u001b[0m\u001b[0mgene_assignments\u001b[0m\u001b[0;34m.\u001b[0m\u001b[0mshape\u001b[0m\u001b[0;34m)\u001b[0m\u001b[0;34m\u001b[0m\u001b[0m\n",
      "\u001b[0;32m/home/mkleyman/scrpd/src/bicluster_em.py\u001b[0m in \u001b[0;36mm_step\u001b[0;34m(sample_clustering, var_clustering, log_prob_a, log_prob_b, epi_data, sigma_y, y_scale)\u001b[0m\n\u001b[1;32m     61\u001b[0m                           \u001b[0;31m#sigma_y, sigma_eps, y_scale,z_arr, z_count, denom)\u001b[0m\u001b[0;34m\u001b[0m\u001b[0;34m\u001b[0m\u001b[0m\n\u001b[1;32m     62\u001b[0m         greedy_optimize_i_numba_single(sample_clustering_next, var_clustering_next, log_prob_a, log_prob_b, epi_data,\n\u001b[0;32m---> 63\u001b[0;31m                                 sigma_y, y_scale, z_arr, z_count)\n\u001b[0m\u001b[1;32m     64\u001b[0m \u001b[0;34m\u001b[0m\u001b[0m\n\u001b[1;32m     65\u001b[0m \u001b[0;34m\u001b[0m\u001b[0m\n",
      "\u001b[0;31mKeyboardInterrupt\u001b[0m: "
     ]
    }
   ],
   "source": [
    "best_cell_assignments, best_gene_assignments, best_aic, best_k = bicluster_em.multi_k_em(sample_data,epi_data,range(5,8),.2,1000,\"AIC\")"
   ]
  },
  {
   "cell_type": "code",
   "execution_count": 49,
   "metadata": {
    "collapsed": false
   },
   "outputs": [
    {
     "data": {
      "text/plain": [
       "6"
      ]
     },
     "execution_count": 49,
     "metadata": {},
     "output_type": "execute_result"
    }
   ],
   "source": [
    "best_k"
   ]
  },
  {
   "cell_type": "code",
   "execution_count": 50,
   "metadata": {
    "collapsed": true
   },
   "outputs": [],
   "source": [
    "b_rows,b_cols = SimulatedData.bicluster_tuple_maker(cluster_list,1000,1000)"
   ]
  },
  {
   "cell_type": "code",
   "execution_count": 51,
   "metadata": {
    "collapsed": true
   },
   "outputs": [],
   "source": [
    "b_matrix = SimulatedData.epi_matrix_maker(b_rows,b_cols)"
   ]
  },
  {
   "cell_type": "code",
   "execution_count": 52,
   "metadata": {
    "collapsed": false
   },
   "outputs": [],
   "source": [
    "def accuracy(real,predict):\n",
    "    return 1.0 - np.sum(np.logical_xor(real,predict))/real.size\n",
    "\n",
    "def precision(real,predict):\n",
    "    return np.sum(np.logical_and(real,predict))/np.sum(predict)\n",
    "\n",
    "def recall(real,predict):\n",
    "    return np.sum(np.logical_and(real,predict))/np.sum(real)\n",
    "    "
   ]
  },
  {
   "cell_type": "code",
   "execution_count": 53,
   "metadata": {
    "collapsed": false
   },
   "outputs": [],
   "source": [
    "real = b_matrix.astype(bool)\n",
    "predict = np.dot(best_cell_assignments,best_gene_assignments.T).astype(bool)"
   ]
  },
  {
   "cell_type": "code",
   "execution_count": 54,
   "metadata": {
    "collapsed": false
   },
   "outputs": [
    {
     "data": {
      "text/plain": [
       "0.499498"
      ]
     },
     "execution_count": 54,
     "metadata": {},
     "output_type": "execute_result"
    }
   ],
   "source": [
    "accuracy(real,predict)"
   ]
  },
  {
   "cell_type": "code",
   "execution_count": 55,
   "metadata": {
    "collapsed": false
   },
   "outputs": [
    {
     "data": {
      "text/plain": [
       "0.3205141791149225"
      ]
     },
     "execution_count": 55,
     "metadata": {},
     "output_type": "execute_result"
    }
   ],
   "source": [
    "precision(real,predict)"
   ]
  },
  {
   "cell_type": "code",
   "execution_count": 56,
   "metadata": {
    "collapsed": false
   },
   "outputs": [
    {
     "data": {
      "text/plain": [
       "0.49943140572083733"
      ]
     },
     "execution_count": 56,
     "metadata": {},
     "output_type": "execute_result"
    }
   ],
   "source": [
    "recall(real,predict)"
   ]
  },
  {
   "cell_type": "code",
   "execution_count": 57,
   "metadata": {
    "collapsed": false
   },
   "outputs": [
    {
     "data": {
      "text/plain": [
       "320967"
      ]
     },
     "execution_count": 57,
     "metadata": {},
     "output_type": "execute_result"
    }
   ],
   "source": [
    "np.sum(real)"
   ]
  },
  {
   "cell_type": "code",
   "execution_count": 58,
   "metadata": {
    "collapsed": false
   },
   "outputs": [
    {
     "data": {
      "text/plain": [
       "500137"
      ]
     },
     "execution_count": 58,
     "metadata": {},
     "output_type": "execute_result"
    }
   ],
   "source": [
    "np.sum(predict)"
   ]
  },
  {
   "cell_type": "code",
   "execution_count": 59,
   "metadata": {
    "collapsed": false
   },
   "outputs": [
    {
     "data": {
      "text/plain": [
       "499498"
      ]
     },
     "execution_count": 59,
     "metadata": {},
     "output_type": "execute_result"
    }
   ],
   "source": [
    "real.size - np.sum(np.logical_xor(real,predict))"
   ]
  },
  {
   "cell_type": "code",
   "execution_count": 48,
   "metadata": {
    "collapsed": false
   },
   "outputs": [
    {
     "data": {
      "text/plain": [
       "500502"
      ]
     },
     "execution_count": 48,
     "metadata": {},
     "output_type": "execute_result"
    }
   ],
   "source": [
    "np.sum(np.logical_xor(real,predict))"
   ]
  },
  {
   "cell_type": "code",
   "execution_count": null,
   "metadata": {
    "collapsed": true
   },
   "outputs": [],
   "source": []
  },
  {
   "cell_type": "code",
   "execution_count": null,
   "metadata": {
    "collapsed": true
   },
   "outputs": [],
   "source": []
  }
 ],
 "metadata": {
  "kernelspec": {
   "display_name": "Python 3",
   "language": "python",
   "name": "python3"
  },
  "language_info": {
   "codemirror_mode": {
    "name": "ipython",
    "version": 3
   },
   "file_extension": ".py",
   "mimetype": "text/x-python",
   "name": "python",
   "nbconvert_exporter": "python",
   "pygments_lexer": "ipython3",
   "version": "3.6.6"
  }
 },
 "nbformat": 4,
 "nbformat_minor": 2
}
